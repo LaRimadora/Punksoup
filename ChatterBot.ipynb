{
 "cells": [
  {
   "cell_type": "code",
   "execution_count": 2,
   "metadata": {
    "collapsed": true
   },
   "outputs": [
    {
     "name": "stderr",
     "output_type": "stream",
     "text": [
      "/Users/sonneundasche/Programming/PythonEnv/ArtificialFoolishness/lib/python3.5/site-packages/chatterbot/storage/jsonfile.py:26: UnsuitableForProductionWarning: The JsonFileStorageAdapter is not recommended for production environments.\n  self.UnsuitableForProductionWarning\n"
     ]
    },
    {
     "data": {
      "text/plain": [
       "<Statement text:Very well, thanks.>"
      ]
     },
     "execution_count": 2,
     "metadata": {},
     "output_type": "execute_result"
    }
   ],
   "source": [
    "from chatterbot import ChatBot\n",
    "\n",
    "chatbot = ChatBot(\n",
    "    'Ron Obvious',\n",
    "    trainer='chatterbot.trainers.ChatterBotCorpusTrainer'\n",
    ")\n",
    "\n",
    "# Train based on the english corpus\n",
    "chatbot.train(\"chatterbot.corpus.english\")\n",
    "\n",
    "# Get a response to an input statement\n",
    "chatbot.get_response(\"Hello, how are you today?\")"
   ]
  },
  {
   "cell_type": "code",
   "execution_count": 1,
   "metadata": {},
   "outputs": [
    {
     "name": "stderr",
     "output_type": "stream",
     "text": [
      "/Users/sonneundasche/Programming/PythonEnv/ArtificialFoolishness/lib/python3.5/site-packages/chatterbot/storage/jsonfile.py:26: UnsuitableForProductionWarning: The JsonFileStorageAdapter is not recommended for production environments.\n  self.UnsuitableForProductionWarning\n"
     ]
    },
    {
     "name": "stdout",
     "output_type": "stream",
     "text": [
      "Who? Who is but a form following the function of what\n"
     ]
    }
   ],
   "source": [
    "from chatterbot import ChatBot\n",
    "\n",
    "# Create a new chat bot named Charlie\n",
    "chatbot = ChatBot('Charlie')\n",
    "\n",
    "# Get a response to the input text 'How are you?'\n",
    "response = chatbot.get_response('How are you?')\n",
    "\n",
    "print(response)"
   ]
  },
  {
   "cell_type": "code",
   "execution_count": 3,
   "metadata": {},
   "outputs": [
    {
     "data": {
      "text/plain": [
       "<Statement text:Go ahead and ask.>"
      ]
     },
     "execution_count": 3,
     "metadata": {},
     "output_type": "execute_result"
    }
   ],
   "source": [
    "chatbot.get_response(\"Can I talk to them?\")"
   ]
  },
  {
   "cell_type": "code",
   "execution_count": 4,
   "metadata": {},
   "outputs": [],
   "source": [
    "chatbot.trainer.export_for_training('./exportChatterbotTest.json')"
   ]
  },
  {
   "cell_type": "code",
   "execution_count": null,
   "metadata": {},
   "outputs": [],
   "source": [
    ""
   ]
  }
 ],
 "metadata": {
  "kernelspec": {
   "display_name": "Python 2",
   "language": "python",
   "name": "python2"
  },
  "language_info": {
   "codemirror_mode": {
    "name": "ipython",
    "version": 2.0
   },
   "file_extension": ".py",
   "mimetype": "text/x-python",
   "name": "python",
   "nbconvert_exporter": "python",
   "pygments_lexer": "ipython2",
   "version": "2.7.6"
  }
 },
 "nbformat": 4,
 "nbformat_minor": 0
}