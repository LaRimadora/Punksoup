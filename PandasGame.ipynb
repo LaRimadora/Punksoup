{
 "cells": [
  {
   "cell_type": "code",
   "execution_count": 64,
   "metadata": {
    "collapsed": true
   },
   "outputs": [],
   "source": [
    "import pandas as pd"
   ]
  },
  {
   "cell_type": "code",
   "execution_count": 65,
   "metadata": {},
   "outputs": [],
   "source": [
    "text =\"\"\"1 Mio. Sachschaden  Alte Schweine\n",
    "\n",
    "Nazi-Rentner greifen an\n",
    "alte Schweine bleiben dran\n",
    "haben nur noch ein Ziel\n",
    "alles Fremde ist zuviel\n",
    "Diabetes, Krebs und Raucherbein\n",
    "läßt sie nur noch lauter schrein\n",
    "ihr Lebensinhalt ist der Hass\n",
    "alte Schweine geben Gas\n",
    "sie morden mit System\n",
    "wer nicht will kann gehn\n",
    "sie kennen keine Schranken\n",
    "sie morden in Gedanken\n",
    "Rentner-Nazis feiern\n",
    "Opaschweine schauekeln mit den Eiern\n",
    "den Omaschweinen ist dies Einerlei\n",
    "die Enkel sind auch dabei\n",
    "\"\"\""
   ]
  },
  {
   "cell_type": "code",
   "execution_count": 66,
   "metadata": {},
   "outputs": [],
   "source": [
    "textTop = text.splitlines()[0]"
   ]
  },
  {
   "cell_type": "code",
   "execution_count": 67,
   "metadata": {},
   "outputs": [
    {
     "data": {
      "text/plain": [
       "['Nazi-Rentner greifen an',\n 'alte Schweine bleiben dran',\n 'haben nur noch ein Ziel',\n 'alles Fremde ist zuviel',\n 'Diabetes, Krebs und Raucherbein',\n 'läßt sie nur noch lauter schrein',\n 'ihr Lebensinhalt ist der Hass',\n 'alte Schweine geben Gas',\n 'sie morden mit System',\n 'wer nicht will kann gehn',\n 'sie kennen keine Schranken',\n 'sie morden in Gedanken',\n 'Rentner-Nazis feiern',\n 'Opaschweine schauekeln mit den Eiern',\n 'den Omaschweinen ist dies Einerlei',\n 'die Enkel sind auch dabei']"
      ]
     },
     "execution_count": 67,
     "metadata": {},
     "output_type": "execute_result"
    }
   ],
   "source": [
    "text.splitlines()[2:]"
   ]
  },
  {
   "cell_type": "heading",
   "metadata": {},
   "level": 3,
   "source": [
    "Text aufsplitten"
   ]
  },
  {
   "cell_type": "code",
   "execution_count": 68,
   "metadata": {},
   "outputs": [],
   "source": [
    "textBody = text[text.find('\\n')+2:]"
   ]
  },
  {
   "cell_type": "code",
   "execution_count": 69,
   "metadata": {},
   "outputs": [
    {
     "name": "stdout",
     "output_type": "stream",
     "text": [
      "['Nazi-Rentner', 'greifen', 'an\\nalte', 'Schweine', 'bleiben', 'dran\\nhaben', 'nur', 'noch', 'ein', 'Ziel\\nalles', 'Fremde', 'ist', 'zuviel\\nDiabetes,', 'Krebs', 'und', 'Raucherbein\\nläßt', 'sie', 'nur', 'noch', 'lauter', 'schrein\\nihr', 'Lebensinhalt', 'ist', 'der', 'Hass\\nalte', 'Schweine', 'geben', 'Gas\\nsie', 'morden', 'mit', 'System\\nwer', 'nicht', 'will', 'kann', 'gehn\\nsie', 'kennen', 'keine', 'Schranken\\nsie', 'morden', 'in', 'Gedanken\\nRentner-Nazis', 'feiern\\nOpaschweine', 'schauekeln', 'mit', 'den', 'Eiern\\nden', 'Omaschweinen', 'ist', 'dies', 'Einerlei\\ndie', 'Enkel', 'sind', 'auch', 'dabei\\n']\n"
     ]
    }
   ],
   "source": [
    "textWords = textBody.split(\" \")\n",
    "print( textWords )"
   ]
  }
 ],
 "metadata": {
  "kernelspec": {
   "display_name": "Python 2",
   "language": "python",
   "name": "python2"
  },
  "language_info": {
   "codemirror_mode": {
    "name": "ipython",
    "version": 2.0
   },
   "file_extension": ".py",
   "mimetype": "text/x-python",
   "name": "python",
   "nbconvert_exporter": "python",
   "pygments_lexer": "ipython2",
   "version": "2.7.6"
  }
 },
 "nbformat": 4,
 "nbformat_minor": 0
}