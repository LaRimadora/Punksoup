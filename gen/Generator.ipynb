{
 "cells": [
  {
   "cell_type": "code",
   "execution_count": 1,
   "metadata": {
    "collapsed": true
   },
   "outputs": [],
   "source": [
    "import markovify as markov\n",
    "with open(\"data/texts_all.txt\") as f:\n",
    "    text = f.read()\n",
    "text_model = markov.Text(text)"
   ]
  },
  {
   "cell_type": "code",
   "execution_count": 24,
   "metadata": {},
   "outputs": [],
   "source": [
    "def make_verse( numLines, charLimit ):\n",
    "    currentVerse = ''\n",
    "    for i in range( numLines ):\n",
    "        currentSentence = 'none'\n",
    "        while currentSentence == 'none':\n",
    "            currentSentence = str( text_model.make_short_sentence( charLimit ) )\n",
    "        currentVerse += currentSentence + '\\n'\n",
    "    return currentVerse"
   ]
  },
  {
   "cell_type": "code",
   "execution_count": 23,
   "metadata": {},
   "outputs": [
    {
     "ename": "NameError",
     "evalue": "name 'whil' is not defined",
     "traceback": [
      "\u001b[0;31m---------------------------------------------------------------------------\u001b[0m",
      "\u001b[0;31mNameError\u001b[0m                                 Traceback (most recent call last)",
      "\u001b[0;32m<ipython-input-23-7a2b8d357081>\u001b[0m in \u001b[0;36m<module>\u001b[0;34m()\u001b[0m\n\u001b[1;32m      9\u001b[0m \u001b[0;34m\u001b[0m\u001b[0m\n\u001b[1;32m     10\u001b[0m \u001b[0;32mfor\u001b[0m \u001b[0mi\u001b[0m \u001b[0;32min\u001b[0m \u001b[0mrange\u001b[0m\u001b[0;34m(\u001b[0m\u001b[0;36m4\u001b[0m\u001b[0;34m)\u001b[0m\u001b[0;34m:\u001b[0m\u001b[0;34m\u001b[0m\u001b[0m\n\u001b[0;32m---> 11\u001b[0;31m     \u001b[0mwhil\u001b[0m\u001b[0;34m\u001b[0m\u001b[0m\n\u001b[0m\u001b[1;32m     12\u001b[0m     \u001b[0mtext1\u001b[0m \u001b[0;34m+=\u001b[0m \u001b[0mstr\u001b[0m\u001b[0;34m(\u001b[0m \u001b[0mtext_model\u001b[0m\u001b[0;34m.\u001b[0m\u001b[0mmake_short_sentence\u001b[0m\u001b[0;34m(\u001b[0m\u001b[0;36m50\u001b[0m\u001b[0;34m)\u001b[0m \u001b[0;34m)\u001b[0m\u001b[0;34m\u001b[0m\u001b[0m\n\u001b[1;32m     13\u001b[0m     \u001b[0mtext1\u001b[0m \u001b[0;34m+=\u001b[0m \u001b[0;34m'\\n'\u001b[0m\u001b[0;34m\u001b[0m\u001b[0m\n",
      "\u001b[0;31mNameError\u001b[0m: name 'whil' is not defined"
     ],
     "output_type": "error"
    }
   ],
   "source": [
    "refrain = ''\n",
    "text1 = ''\n",
    "text2 = ''\n",
    "text3 = ''\n",
    "\n",
    "for i in range(4):\n",
    "    refrain += str( text_model.make_short_sentence(50) )\n",
    "    refrain += '\\n'\n",
    "\n",
    "for i in range(4):\n",
    "    while\n",
    "    text1 += str( text_model.make_short_sentence(50) )\n",
    "    text1 += '\\n'\n",
    "\n",
    "for i in range(4):\n",
    "    text2 += str( text_model.make_short_sentence(50) ) + '\\n'\n",
    "\n",
    "for i in range(4):\n",
    "    text3 += str( text_model.make_short_sentence(50) ) + '\\n'"
   ]
  },
  {
   "cell_type": "code",
   "execution_count": 22,
   "metadata": {},
   "outputs": [
    {
     "name": "stdout",
     "output_type": "stream",
     "text": [
      "Licht fällt auf dein Hirn.\nUnd wirst du tun?\nNone\nEs muss mehr als ein Traum sein.\n\nReiß den Film gesehen.\nIch hab die Geduld verloren.\nDenk doch nicht normal kann ich's noch ertragen?\nHe is a new people.\n\nJeden Tag sind sie denn?\nNone\nAlle sagen Dir wie es mal mit uns passiert?\nNone\n\nReiß den Film gesehen.\nIch hab die Geduld verloren.\nDenk doch nicht normal kann ich's noch ertragen?\nHe is a new people.\n\nWir sind in uns'ren Köpfen eingesperrt.\nVom Reichstag bis zum Abend tot.\nIhr sagtet das ist uns egal machen uns blind.\nNone\n\nReiß den Film gesehen.\nIch hab die Geduld verloren.\nDenk doch nicht normal kann ich's noch ertragen?\nHe is a new people.\n\nReiß den Film gesehen.\nIch hab die Geduld verloren.\nDenk doch nicht normal kann ich's noch ertragen?\nHe is a new people.\n\n"
     ]
    }
   ],
   "source": [
    "print( text1 )\n",
    "print( refrain )\n",
    "print( text2 )\n",
    "print( refrain )\n",
    "print( text3 )\n",
    "print( refrain )\n",
    "print( refrain )"
   ]
  },
  {
   "cell_type": "code",
   "execution_count": 25,
   "metadata": {},
   "outputs": [
    {
     "name": "stdout",
     "output_type": "stream",
     "text": [
      "Doch das ging nicht sehr weit.\nUnd diese schon so funktioniert?\nSah sich um dich gesorgt.\nWill nicht leben Und wenn ich dicke Möpse seh.\n\n"
     ]
    }
   ],
   "source": [
    "print( make_verse( 4, 60 ) )"
   ]
  },
  {
   "cell_type": "code",
   "execution_count": null,
   "metadata": {},
   "outputs": [],
   "source": [
    ""
   ]
  }
 ],
 "metadata": {
  "kernelspec": {
   "display_name": "Python 2",
   "language": "python",
   "name": "python2"
  },
  "language_info": {
   "codemirror_mode": {
    "name": "ipython",
    "version": 2.0
   },
   "file_extension": ".py",
   "mimetype": "text/x-python",
   "name": "python",
   "nbconvert_exporter": "python",
   "pygments_lexer": "ipython2",
   "version": "2.7.6"
  }
 },
 "nbformat": 4,
 "nbformat_minor": 0
}